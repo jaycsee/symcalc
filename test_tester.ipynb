{
 "cells": [
  {
   "cell_type": "code",
   "execution_count": 1,
   "metadata": {},
   "outputs": [],
   "source": [
    "import sympy\n",
    "from tests import *"
   ]
  },
  {
   "cell_type": "code",
   "execution_count": 2,
   "metadata": {},
   "outputs": [],
   "source": [
    "def types(l):\n",
    "    s = set()\n",
    "    for x in l:\n",
    "        s.add(type(x))\n",
    "    return s"
   ]
  },
  {
   "cell_type": "code",
   "execution_count": 3,
   "metadata": {},
   "outputs": [],
   "source": [
    "def complex_types(l):\n",
    "    s = set()\n",
    "    for x in l:\n",
    "        s.add((type(x.real), type(x.imag)))\n",
    "    return s"
   ]
  },
  {
   "cell_type": "code",
   "execution_count": 4,
   "metadata": {},
   "outputs": [],
   "source": [
    "def complex_types_sympy(l):\n",
    "    s = set()\n",
    "    for x in l:\n",
    "        s.add((type(sympy.re(x)), type(sympy.im(x))))\n",
    "    return s"
   ]
  },
  {
   "cell_type": "code",
   "execution_count": 5,
   "metadata": {},
   "outputs": [],
   "source": [
    "from tests import *"
   ]
  },
  {
   "cell_type": "code",
   "execution_count": 6,
   "metadata": {},
   "outputs": [
    {
     "name": "stdout",
     "output_type": "stream",
     "text": [
      "{<class 'int'>}\n",
      "{<class 'int'>}\n"
     ]
    }
   ],
   "source": [
    "print(types(random_ints(1000)))\n",
    "print(types(random_ints(1)))"
   ]
  },
  {
   "cell_type": "code",
   "execution_count": 7,
   "metadata": {},
   "outputs": [
    {
     "name": "stdout",
     "output_type": "stream",
     "text": [
      "{<class 'float'>, <class 'int'>}\n",
      "{<class 'float'>, <class 'int'>}\n"
     ]
    }
   ],
   "source": [
    "print(types(random_decimals(1000)))\n",
    "print(types(random_decimals(1)))"
   ]
  },
  {
   "cell_type": "code",
   "execution_count": 8,
   "metadata": {},
   "outputs": [
    {
     "name": "stdout",
     "output_type": "stream",
     "text": [
      "{<class 'sympy.core.numbers.One'>, <class 'sympy.core.numbers.Integer'>, <class 'sympy.core.numbers.NegativeOne'>, <class 'sympy.core.numbers.Float'>}\n",
      "{<class 'sympy.core.numbers.Integer'>, <class 'sympy.core.numbers.Float'>}\n"
     ]
    }
   ],
   "source": [
    "print(types(random_decimals_sympy(1000)))\n",
    "print(types(random_decimals_sympy(1)))"
   ]
  },
  {
   "cell_type": "code",
   "execution_count": 9,
   "metadata": {},
   "outputs": [
    {
     "name": "stdout",
     "output_type": "stream",
     "text": [
      "{<class 'float'>}\n",
      "{<class 'float'>}\n"
     ]
    }
   ],
   "source": [
    "print(types(random_fractions(1000)))\n",
    "print(types(random_fractions(1)))"
   ]
  },
  {
   "cell_type": "code",
   "execution_count": 10,
   "metadata": {},
   "outputs": [
    {
     "name": "stdout",
     "output_type": "stream",
     "text": [
      "{<class 'sympy.core.numbers.One'>, <class 'sympy.core.numbers.Rational'>, <class 'sympy.core.numbers.Integer'>, <class 'sympy.core.numbers.NegativeOne'>}\n",
      "{<class 'sympy.core.numbers.Rational'>}\n"
     ]
    }
   ],
   "source": [
    "print(types(random_fractions_sympy(1000)))\n",
    "print(types(random_fractions_sympy(1)))"
   ]
  },
  {
   "cell_type": "code",
   "execution_count": 11,
   "metadata": {},
   "outputs": [
    {
     "name": "stdout",
     "output_type": "stream",
     "text": [
      "{<class 'float'>, <class 'int'>}\n",
      "{<class 'float'>, <class 'int'>}\n"
     ]
    }
   ],
   "source": [
    "print(types(random_numbers(1000)))\n",
    "print(types(random_numbers(1)))"
   ]
  },
  {
   "cell_type": "code",
   "execution_count": 12,
   "metadata": {},
   "outputs": [
    {
     "name": "stdout",
     "output_type": "stream",
     "text": [
      "{<class 'sympy.core.numbers.Float'>, <class 'sympy.core.numbers.Rational'>, <class 'sympy.core.numbers.NegativeOne'>, <class 'sympy.core.numbers.One'>, <class 'sympy.core.numbers.Integer'>}\n",
      "{<class 'sympy.core.numbers.Rational'>, <class 'sympy.core.numbers.Integer'>, <class 'sympy.core.numbers.Float'>}\n",
      "{<class 'sympy.core.numbers.Rational'>, <class 'sympy.core.numbers.Integer'>, <class 'sympy.core.numbers.Float'>}\n"
     ]
    }
   ],
   "source": [
    "print(types(random_numbers_sympy(1000)))\n",
    "print(types(random_numbers_sympy(2)))\n",
    "print(types(random_numbers_sympy(1)))"
   ]
  },
  {
   "cell_type": "code",
   "execution_count": 13,
   "metadata": {},
   "outputs": [
    {
     "name": "stdout",
     "output_type": "stream",
     "text": [
      "{(<class 'float'>, <class 'float'>)}\n",
      "{(<class 'float'>, <class 'float'>)}\n"
     ]
    }
   ],
   "source": [
    "print(complex_types(random_complexes(100)))\n",
    "print(complex_types(random_complexes(1)))"
   ]
  },
  {
   "cell_type": "code",
   "execution_count": 14,
   "metadata": {},
   "outputs": [
    {
     "name": "stdout",
     "output_type": "stream",
     "text": [
      "{(<class 'sympy.core.numbers.Rational'>, <class 'sympy.core.numbers.Integer'>), (<class 'sympy.core.numbers.Float'>, <class 'sympy.core.numbers.Float'>), (<class 'sympy.core.numbers.Integer'>, <class 'sympy.core.numbers.Integer'>), (<class 'sympy.core.numbers.Float'>, <class 'sympy.core.numbers.Rational'>), (<class 'sympy.core.numbers.Rational'>, <class 'sympy.core.numbers.Float'>), (<class 'sympy.core.numbers.Rational'>, <class 'sympy.core.numbers.Rational'>), (<class 'sympy.core.numbers.Integer'>, <class 'sympy.core.numbers.Float'>), (<class 'sympy.core.numbers.Integer'>, <class 'sympy.core.numbers.Rational'>), (<class 'sympy.core.numbers.Float'>, <class 'sympy.core.numbers.Integer'>)}\n",
      "{(<class 'sympy.core.numbers.Rational'>, <class 'sympy.core.numbers.Integer'>), (<class 'sympy.core.numbers.Zero'>, <class 'sympy.core.numbers.Float'>), (<class 'sympy.core.numbers.Zero'>, <class 'sympy.core.numbers.Rational'>), (<class 'sympy.core.numbers.Float'>, <class 'sympy.core.numbers.Float'>), (<class 'sympy.core.numbers.Integer'>, <class 'sympy.core.numbers.Integer'>), (<class 'sympy.core.numbers.Float'>, <class 'sympy.core.numbers.Rational'>), (<class 'sympy.core.numbers.Rational'>, <class 'sympy.core.numbers.Float'>), (<class 'sympy.core.numbers.Rational'>, <class 'sympy.core.numbers.Rational'>), (<class 'sympy.core.numbers.Integer'>, <class 'sympy.core.numbers.Float'>), (<class 'sympy.core.numbers.Zero'>, <class 'sympy.core.numbers.Integer'>), (<class 'sympy.core.numbers.Integer'>, <class 'sympy.core.numbers.Rational'>), (<class 'sympy.core.numbers.Float'>, <class 'sympy.core.numbers.Integer'>)}\n"
     ]
    }
   ],
   "source": [
    "print(complex_types_sympy(random_complexes_sympy(5)))\n",
    "print(complex_types_sympy(random_complexes_sympy(1)))"
   ]
  },
  {
   "cell_type": "code",
   "execution_count": 15,
   "metadata": {},
   "outputs": [
    {
     "data": {
      "text/plain": [
       "(14, 16)"
      ]
     },
     "execution_count": 15,
     "metadata": {},
     "output_type": "execute_result"
    }
   ],
   "source": [
    "len(random_fractions(1)),len(random_decimals(1))"
   ]
  },
  {
   "cell_type": "code",
   "execution_count": 23,
   "metadata": {},
   "outputs": [
    {
     "data": {
      "text/plain": [
       "900"
      ]
     },
     "execution_count": 23,
     "metadata": {},
     "output_type": "execute_result"
    }
   ],
   "source": [
    "len(random_complexes_sympy(3))"
   ]
  }
 ],
 "metadata": {
  "interpreter": {
   "hash": "8a7e1a80a0e90a8de363db0fa990709c85bf6ead40a926c236d43d1ea519b7af"
  },
  "kernelspec": {
   "display_name": "Python 3.10.4 ('symcalc': venv)",
   "language": "python",
   "name": "python3"
  },
  "language_info": {
   "codemirror_mode": {
    "name": "ipython",
    "version": 3
   },
   "file_extension": ".py",
   "mimetype": "text/x-python",
   "name": "python",
   "nbconvert_exporter": "python",
   "pygments_lexer": "ipython3",
   "version": "3.10.4"
  },
  "orig_nbformat": 4
 },
 "nbformat": 4,
 "nbformat_minor": 2
}
